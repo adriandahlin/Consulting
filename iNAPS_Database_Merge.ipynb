{
 "cells": [
  {
   "cell_type": "code",
   "execution_count": 83,
   "metadata": {
    "collapsed": true
   },
   "outputs": [],
   "source": [
    "import pandas as pd\n",
    "import numpy as np"
   ]
  },
  {
   "cell_type": "markdown",
   "metadata": {},
   "source": [
    "Importing CSVs previously exported from MailChimp."
   ]
  },
  {
   "cell_type": "code",
   "execution_count": 2,
   "metadata": {
    "collapsed": true
   },
   "outputs": [],
   "source": [
    "mc_cleaned = pd.read_csv(\"cleaned_members_export_50ce47c55d.csv\")\n",
    "mc_subscribed = pd.read_csv(\"subscribed_members_export_50ce47c55d.csv\")\n",
    "mc_unsubscribed = pd.read_csv(\"unsubscribed_members_export_50ce47c55d.csv\")"
   ]
  },
  {
   "cell_type": "code",
   "execution_count": 3,
   "metadata": {},
   "outputs": [
    {
     "data": {
      "text/html": [
       "<div>\n",
       "<style>\n",
       "    .dataframe thead tr:only-child th {\n",
       "        text-align: right;\n",
       "    }\n",
       "\n",
       "    .dataframe thead th {\n",
       "        text-align: left;\n",
       "    }\n",
       "\n",
       "    .dataframe tbody tr th {\n",
       "        vertical-align: top;\n",
       "    }\n",
       "</style>\n",
       "<table border=\"1\" class=\"dataframe\">\n",
       "  <thead>\n",
       "    <tr style=\"text-align: right;\">\n",
       "      <th></th>\n",
       "      <th>Email Address</th>\n",
       "      <th>First Name</th>\n",
       "      <th>Last Name</th>\n",
       "      <th>Zip Code</th>\n",
       "      <th>EMAIL_TYPE</th>\n",
       "      <th>MEMBER_RATING</th>\n",
       "      <th>OPTIN_TIME</th>\n",
       "      <th>OPTIN_IP</th>\n",
       "      <th>CONFIRM_TIME</th>\n",
       "      <th>CONFIRM_IP</th>\n",
       "      <th>...</th>\n",
       "      <th>LONGITUDE</th>\n",
       "      <th>GMTOFF</th>\n",
       "      <th>DSTOFF</th>\n",
       "      <th>TIMEZONE</th>\n",
       "      <th>CC</th>\n",
       "      <th>REGION</th>\n",
       "      <th>LAST_CHANGED</th>\n",
       "      <th>LEID</th>\n",
       "      <th>EUID</th>\n",
       "      <th>NOTES</th>\n",
       "    </tr>\n",
       "  </thead>\n",
       "  <tbody>\n",
       "    <tr>\n",
       "      <th>0</th>\n",
       "      <td>recoveryED@aol.com</td>\n",
       "      <td>Rita</td>\n",
       "      <td>NaN</td>\n",
       "      <td>NaN</td>\n",
       "      <td>html</td>\n",
       "      <td>2</td>\n",
       "      <td>9/3/14 16:51</td>\n",
       "      <td>NaN</td>\n",
       "      <td>9/3/14 16:51</td>\n",
       "      <td>70.195.139.188</td>\n",
       "      <td>...</td>\n",
       "      <td>'-123.0160000</td>\n",
       "      <td>'-8</td>\n",
       "      <td>'-7</td>\n",
       "      <td>America/Los_Angeles</td>\n",
       "      <td>US</td>\n",
       "      <td>OR</td>\n",
       "      <td>11/10/17 12:37</td>\n",
       "      <td>428403017</td>\n",
       "      <td>77a1738fdd</td>\n",
       "      <td>NaN</td>\n",
       "    </tr>\n",
       "    <tr>\n",
       "      <th>1</th>\n",
       "      <td>aotau@yahoo.com</td>\n",
       "      <td>NaN</td>\n",
       "      <td>NaN</td>\n",
       "      <td>NaN</td>\n",
       "      <td>html</td>\n",
       "      <td>2</td>\n",
       "      <td>7/24/13 8:29</td>\n",
       "      <td>NaN</td>\n",
       "      <td>7/24/13 8:29</td>\n",
       "      <td>NaN</td>\n",
       "      <td>...</td>\n",
       "      <td>'-77.5935000</td>\n",
       "      <td>'-5</td>\n",
       "      <td>'-4</td>\n",
       "      <td>America/Toronto</td>\n",
       "      <td>US</td>\n",
       "      <td>NY</td>\n",
       "      <td>7/24/13 8:29</td>\n",
       "      <td>421384569</td>\n",
       "      <td>bd430c194f</td>\n",
       "      <td>NaN</td>\n",
       "    </tr>\n",
       "    <tr>\n",
       "      <th>2</th>\n",
       "      <td>awarren@mharochester.org</td>\n",
       "      <td>NaN</td>\n",
       "      <td>NaN</td>\n",
       "      <td>NaN</td>\n",
       "      <td>html</td>\n",
       "      <td>5</td>\n",
       "      <td>7/24/13 8:29</td>\n",
       "      <td>NaN</td>\n",
       "      <td>7/24/13 8:29</td>\n",
       "      <td>NaN</td>\n",
       "      <td>...</td>\n",
       "      <td>'-76.1771000</td>\n",
       "      <td>'-5</td>\n",
       "      <td>'-4</td>\n",
       "      <td>America/New_York</td>\n",
       "      <td>US</td>\n",
       "      <td>NY</td>\n",
       "      <td>10/6/14 10:39</td>\n",
       "      <td>421384665</td>\n",
       "      <td>349ab6ff43</td>\n",
       "      <td>NaN</td>\n",
       "    </tr>\n",
       "    <tr>\n",
       "      <th>3</th>\n",
       "      <td>dempseyrobert@hotmail.com</td>\n",
       "      <td>NaN</td>\n",
       "      <td>NaN</td>\n",
       "      <td>NaN</td>\n",
       "      <td>html</td>\n",
       "      <td>2</td>\n",
       "      <td>7/24/13 8:29</td>\n",
       "      <td>NaN</td>\n",
       "      <td>7/24/13 8:29</td>\n",
       "      <td>NaN</td>\n",
       "      <td>...</td>\n",
       "      <td>'-73.9965000</td>\n",
       "      <td>'-5</td>\n",
       "      <td>'-4</td>\n",
       "      <td>America/New_York</td>\n",
       "      <td>US</td>\n",
       "      <td>NY</td>\n",
       "      <td>7/24/13 8:29</td>\n",
       "      <td>421385897</td>\n",
       "      <td>71fa32dc18</td>\n",
       "      <td>NaN</td>\n",
       "    </tr>\n",
       "    <tr>\n",
       "      <th>4</th>\n",
       "      <td>georgeebert@yahoo.com</td>\n",
       "      <td>NaN</td>\n",
       "      <td>NaN</td>\n",
       "      <td>NaN</td>\n",
       "      <td>html</td>\n",
       "      <td>4</td>\n",
       "      <td>7/24/13 8:29</td>\n",
       "      <td>NaN</td>\n",
       "      <td>7/24/13 8:29</td>\n",
       "      <td>NaN</td>\n",
       "      <td>...</td>\n",
       "      <td>'-75.0704000</td>\n",
       "      <td>'-5</td>\n",
       "      <td>'-4</td>\n",
       "      <td>America/New_York</td>\n",
       "      <td>US</td>\n",
       "      <td>NY</td>\n",
       "      <td>7/24/13 8:29</td>\n",
       "      <td>421386525</td>\n",
       "      <td>d9dbb77ed6</td>\n",
       "      <td>NaN</td>\n",
       "    </tr>\n",
       "  </tbody>\n",
       "</table>\n",
       "<p>5 rows × 21 columns</p>\n",
       "</div>"
      ],
      "text/plain": [
       "               Email Address First Name Last Name Zip Code EMAIL_TYPE  \\\n",
       "0         recoveryED@aol.com       Rita       NaN      NaN       html   \n",
       "1            aotau@yahoo.com        NaN       NaN      NaN       html   \n",
       "2   awarren@mharochester.org        NaN       NaN      NaN       html   \n",
       "3  dempseyrobert@hotmail.com        NaN       NaN      NaN       html   \n",
       "4      georgeebert@yahoo.com        NaN       NaN      NaN       html   \n",
       "\n",
       "   MEMBER_RATING    OPTIN_TIME OPTIN_IP  CONFIRM_TIME      CONFIRM_IP  ...   \\\n",
       "0              2  9/3/14 16:51      NaN  9/3/14 16:51  70.195.139.188  ...    \n",
       "1              2  7/24/13 8:29      NaN  7/24/13 8:29             NaN  ...    \n",
       "2              5  7/24/13 8:29      NaN  7/24/13 8:29             NaN  ...    \n",
       "3              2  7/24/13 8:29      NaN  7/24/13 8:29             NaN  ...    \n",
       "4              4  7/24/13 8:29      NaN  7/24/13 8:29             NaN  ...    \n",
       "\n",
       "       LONGITUDE GMTOFF DSTOFF             TIMEZONE  CC REGION  \\\n",
       "0  '-123.0160000    '-8    '-7  America/Los_Angeles  US     OR   \n",
       "1   '-77.5935000    '-5    '-4      America/Toronto  US     NY   \n",
       "2   '-76.1771000    '-5    '-4     America/New_York  US     NY   \n",
       "3   '-73.9965000    '-5    '-4     America/New_York  US     NY   \n",
       "4   '-75.0704000    '-5    '-4     America/New_York  US     NY   \n",
       "\n",
       "     LAST_CHANGED       LEID        EUID NOTES  \n",
       "0  11/10/17 12:37  428403017  77a1738fdd   NaN  \n",
       "1    7/24/13 8:29  421384569  bd430c194f   NaN  \n",
       "2   10/6/14 10:39  421384665  349ab6ff43   NaN  \n",
       "3    7/24/13 8:29  421385897  71fa32dc18   NaN  \n",
       "4    7/24/13 8:29  421386525  d9dbb77ed6   NaN  \n",
       "\n",
       "[5 rows x 21 columns]"
      ]
     },
     "execution_count": 3,
     "metadata": {},
     "output_type": "execute_result"
    }
   ],
   "source": [
    "mc_subscribed.head()"
   ]
  },
  {
   "cell_type": "code",
   "execution_count": 186,
   "metadata": {},
   "outputs": [
    {
     "name": "stdout",
     "output_type": "stream",
     "text": [
      "We have a first name recorded for 2505 of a total of 5140 subscribers.\n"
     ]
    }
   ],
   "source": [
    "print(\"We have a first name recorded for\", len(mc_subscribed[mc_subscribed['First Name'].notnull()]), \\\n",
    "      \"of a total of\", len(mc_subscribed), \"subscribers.\")"
   ]
  },
  {
   "cell_type": "code",
   "execution_count": 5,
   "metadata": {},
   "outputs": [
    {
     "data": {
      "text/plain": [
       "682"
      ]
     },
     "execution_count": 5,
     "metadata": {},
     "output_type": "execute_result"
    }
   ],
   "source": [
    "len(mc_unsubscribed)"
   ]
  },
  {
   "cell_type": "code",
   "execution_count": 6,
   "metadata": {},
   "outputs": [
    {
     "data": {
      "text/plain": [
       "1530"
      ]
     },
     "execution_count": 6,
     "metadata": {},
     "output_type": "execute_result"
    }
   ],
   "source": [
    "len(mc_cleaned)"
   ]
  },
  {
   "cell_type": "markdown",
   "metadata": {},
   "source": [
    "Importing CSVs previously exported from Eventbrite.\n",
    "\n",
    "IMPORTANT: the following cell and its dependents need to be re-run after CSVs have been updated with latest data from Eventbrite"
   ]
  },
  {
   "cell_type": "code",
   "execution_count": 109,
   "metadata": {
    "collapsed": true
   },
   "outputs": [],
   "source": [
    "eb17cash = pd.read_csv(\"iNAPS_orders_2017_cash.csv\")\n",
    "eb17 = pd.read_csv(\"iNAPS_orders_2017.csv\")\n",
    "eb18 = pd.read_csv(\"iNAPS_orders_2018.csv\")\n",
    "eb18cash = pd.read_csv(\"iNAPS_orders_2018_cash.csv\")"
   ]
  },
  {
   "cell_type": "code",
   "execution_count": 170,
   "metadata": {},
   "outputs": [
    {
     "name": "stdout",
     "output_type": "stream",
     "text": [
      "There are 21 2017 members who paid by cash.\n",
      "There are 245 2017 members who paid online.\n",
      "There are 16 2018 members who paid by cash.\n",
      "There are 69 2018 members who paid online.\n"
     ]
    }
   ],
   "source": [
    "print(\"There are\", len(eb17cash), \"2017 members who paid by cash.\")\n",
    "print(\"There are\", len(eb17), \"2017 members who paid online.\")\n",
    "print(\"There are\", len(eb18cash), \"2018 members who paid by cash.\")\n",
    "print(\"There are\", len(eb18), \"2018 members who paid online.\")"
   ]
  },
  {
   "cell_type": "markdown",
   "metadata": {},
   "source": [
    "This creates new columns for member types. These columns and their assigned values will be used later when dataframes are merged."
   ]
  },
  {
   "cell_type": "code",
   "execution_count": 110,
   "metadata": {},
   "outputs": [],
   "source": [
    "for row in eb17cash:\n",
    "    eb17cash['membership_status_2017'] = 'cash'\n",
    "for row in eb17:\n",
    "    eb17['membership_status_2017'] = 'online'\n",
    "for row in eb18:\n",
    "    eb18['membership_status_2018'] = 'online'\n",
    "for row in eb18cash:\n",
    "    eb18cash['membership_status_2018'] = 'cash'"
   ]
  },
  {
   "cell_type": "markdown",
   "metadata": {},
   "source": [
    "Merging MailChimp and Eventbrite data sets."
   ]
  },
  {
   "cell_type": "code",
   "execution_count": 130,
   "metadata": {
    "collapsed": true
   },
   "outputs": [],
   "source": [
    "merge1 = pd.merge(mc_subscribed, eb17cash, how=\"outer\", on=['Email Address', 'First Name', 'Last Name'])"
   ]
  },
  {
   "cell_type": "code",
   "execution_count": 131,
   "metadata": {},
   "outputs": [
    {
     "name": "stdout",
     "output_type": "stream",
     "text": [
      "5140\n",
      "21\n"
     ]
    },
    {
     "data": {
      "text/plain": [
       "5154"
      ]
     },
     "execution_count": 131,
     "metadata": {},
     "output_type": "execute_result"
    }
   ],
   "source": [
    "print(len(mc_subscribed))\n",
    "print(len(eb17cash))\n",
    "len(merge1)"
   ]
  },
  {
   "cell_type": "code",
   "execution_count": 139,
   "metadata": {},
   "outputs": [
    {
     "data": {
      "text/plain": [
       "5343"
      ]
     },
     "execution_count": 139,
     "metadata": {},
     "output_type": "execute_result"
    }
   ],
   "source": [
    "merge2 = pd.merge(merge1, eb17, how='outer', on=['Email Address', 'First Name', 'Last Name', 'Cell Phone'])\n",
    "len(merge2)"
   ]
  },
  {
   "cell_type": "code",
   "execution_count": 134,
   "metadata": {},
   "outputs": [
    {
     "name": "stdout",
     "output_type": "stream",
     "text": [
      "69\n"
     ]
    },
    {
     "data": {
      "text/plain": [
       "5367"
      ]
     },
     "execution_count": 134,
     "metadata": {},
     "output_type": "execute_result"
    }
   ],
   "source": [
    "merge3 = pd.merge(merge2, eb18, how='outer', on=['Email Address', 'First Name', 'Last Name'])\n",
    "print(len(eb18))\n",
    "len(merge3)"
   ]
  },
  {
   "cell_type": "markdown",
   "metadata": {},
   "source": [
    "This is the final merge:"
   ]
  },
  {
   "cell_type": "code",
   "execution_count": 142,
   "metadata": {},
   "outputs": [],
   "source": [
    "data = pd.merge(merge3, eb18cash, how='outer', on=['Email Address', 'First Name', 'Last Name'])"
   ]
  },
  {
   "cell_type": "code",
   "execution_count": 143,
   "metadata": {},
   "outputs": [
    {
     "data": {
      "text/plain": [
       "5368"
      ]
     },
     "execution_count": 143,
     "metadata": {},
     "output_type": "execute_result"
    }
   ],
   "source": [
    "len(data)"
   ]
  },
  {
   "cell_type": "code",
   "execution_count": 144,
   "metadata": {},
   "outputs": [
    {
     "data": {
      "text/plain": [
       "2733"
      ]
     },
     "execution_count": 144,
     "metadata": {},
     "output_type": "execute_result"
    }
   ],
   "source": [
    "len(data[data['First Name'].notnull()])"
   ]
  },
  {
   "cell_type": "code",
   "execution_count": 145,
   "metadata": {
    "collapsed": true
   },
   "outputs": [],
   "source": [
    "data.drop(['LAST_CHANGED', 'LEID', 'EUID', 'NOTES', 'Event Name_x',\n",
    "       'Date_x', 'Gross Revenue (USD)_x', 'Ticket Revenue (USD)_x',\n",
    "       'Eventbrite Fees (USD)_x', 'Eventbrite Payment Processing (USD)_x',\n",
    "       'Tickets_x', 'Type_x', 'Status_x', 'Distribution Partner_x',\n",
    "       'Transaction ID_x', 'Notes_x', 'First Name_y', 'Last Name_y', 'Event Name_y',\n",
    "       'Order ID_y', 'Date_y', 'Gross Revenue (USD)_y',\n",
    "       'Registration Revenue (USD)', 'Eventbrite Fees (USD)_y',\n",
    "       'Eventbrite Payment Processing (USD)_y', 'Tickets_y', 'Type_y',\n",
    "       'Status_y', 'Distribution Partner_y', 'Payment Method_x', 'Billing Address 1_x',\n",
    "       'Billing Address 2_x', 'Billing City_x', 'Billing State_x',\n",
    "       'Billing Zip_x', 'Billing Country_x',\n",
    "       'Event Name_x', 'Order ID_x', 'Date_x', 'Gross Revenue (USD)_x',\n",
    "       'Ticket Revenue (USD)_y', 'Eventbrite Fees (USD)_x',\n",
    "       'Eventbrite Payment Processing (USD)_x', 'Tickets_x',\n",
    "       'Status_x', 'Distribution Partner_x', 'Payment Method_y', 'Notes_x', 'Billing Address 1_y',\n",
    "       'Billing Address 2_y', 'Billing City_y', 'Billing State_y',\n",
    "       'Billing Zip_y', 'Billing Country_y',\n",
    "       'Event Name_y', 'Order ID_y', 'Date_y', 'Gross Revenue (USD)_y',\n",
    "       'Ticket Revenue (USD)', 'Eventbrite Fees (USD)_y',\n",
    "       'Eventbrite Payment Processing (USD)_y',\n",
    "       'Status_y', 'Distribution Partner_y', 'Transaction ID_y', 'EMAIL_TYPE', \n",
    "          'OPTIN_IP', 'CONFIRM_TIME', 'CONFIRM_IP', 'LATITUDE', 'LONGITUDE', \n",
    "          'GMTOFF', 'DSTOFF', 'TIMEZONE', 'CC', 'REGION', 'Notes_y', 'Billing Address 1', \n",
    "           'Billing Address 2', 'Billing City', 'Billing State', 'Billing Zip', \n",
    "           'Billing Country'], axis=1, inplace=True)"
   ]
  },
  {
   "cell_type": "markdown",
   "metadata": {},
   "source": [
    "This consolidates multiple membership status columns into one for each year:"
   ]
  },
  {
   "cell_type": "code",
   "execution_count": 146,
   "metadata": {
    "collapsed": true
   },
   "outputs": [],
   "source": [
    "data.rename(columns={'membership_status_2018_y':'status_2018'}, inplace=True)\n",
    "data.rename(columns={'membership_status_2017_y':'status_2017'}, inplace=True)"
   ]
  },
  {
   "cell_type": "code",
   "execution_count": 147,
   "metadata": {
    "collapsed": true
   },
   "outputs": [],
   "source": [
    "data.loc[data['membership_status_2018_x'].notnull(), 'status_2018'] = \"online\"\n",
    "data.loc[data['membership_status_2017_x'].notnull(), 'status_2017'] = \"cash\""
   ]
  },
  {
   "cell_type": "code",
   "execution_count": 150,
   "metadata": {
    "collapsed": true
   },
   "outputs": [],
   "source": [
    "data.drop(['membership_status_2017_x', 'membership_status_2018_x'], axis=1, inplace=True)"
   ]
  },
  {
   "cell_type": "code",
   "execution_count": 151,
   "metadata": {},
   "outputs": [
    {
     "data": {
      "text/html": [
       "<div>\n",
       "<style>\n",
       "    .dataframe thead tr:only-child th {\n",
       "        text-align: right;\n",
       "    }\n",
       "\n",
       "    .dataframe thead th {\n",
       "        text-align: left;\n",
       "    }\n",
       "\n",
       "    .dataframe tbody tr th {\n",
       "        vertical-align: top;\n",
       "    }\n",
       "</style>\n",
       "<table border=\"1\" class=\"dataframe\">\n",
       "  <thead>\n",
       "    <tr style=\"text-align: right;\">\n",
       "      <th></th>\n",
       "      <th>Email Address</th>\n",
       "      <th>First Name</th>\n",
       "      <th>Last Name</th>\n",
       "      <th>Zip Code</th>\n",
       "      <th>MEMBER_RATING</th>\n",
       "      <th>OPTIN_TIME</th>\n",
       "      <th>Cell Phone</th>\n",
       "      <th>status_2017</th>\n",
       "      <th>status_2018</th>\n",
       "    </tr>\n",
       "  </thead>\n",
       "  <tbody>\n",
       "    <tr>\n",
       "      <th>5363</th>\n",
       "      <td>lorriemayfield3@gmail.com</td>\n",
       "      <td>Lorrie</td>\n",
       "      <td>Mayfield</td>\n",
       "      <td>NaN</td>\n",
       "      <td>NaN</td>\n",
       "      <td>NaN</td>\n",
       "      <td>NaN</td>\n",
       "      <td>NaN</td>\n",
       "      <td>online</td>\n",
       "    </tr>\n",
       "    <tr>\n",
       "      <th>5364</th>\n",
       "      <td>classycassey.cc@gmail.com</td>\n",
       "      <td>Cassey</td>\n",
       "      <td>Coleman</td>\n",
       "      <td>NaN</td>\n",
       "      <td>NaN</td>\n",
       "      <td>NaN</td>\n",
       "      <td>NaN</td>\n",
       "      <td>NaN</td>\n",
       "      <td>online</td>\n",
       "    </tr>\n",
       "    <tr>\n",
       "      <th>5365</th>\n",
       "      <td>kayemarie@gmail.com</td>\n",
       "      <td>Kaye</td>\n",
       "      <td>Christian</td>\n",
       "      <td>NaN</td>\n",
       "      <td>NaN</td>\n",
       "      <td>NaN</td>\n",
       "      <td>NaN</td>\n",
       "      <td>NaN</td>\n",
       "      <td>online</td>\n",
       "    </tr>\n",
       "    <tr>\n",
       "      <th>5366</th>\n",
       "      <td>mandible2002@hotmail.com</td>\n",
       "      <td>Tony</td>\n",
       "      <td>Smith</td>\n",
       "      <td>NaN</td>\n",
       "      <td>NaN</td>\n",
       "      <td>NaN</td>\n",
       "      <td>NaN</td>\n",
       "      <td>NaN</td>\n",
       "      <td>online</td>\n",
       "    </tr>\n",
       "    <tr>\n",
       "      <th>5367</th>\n",
       "      <td>fsdoczak@alliance-hs.org</td>\n",
       "      <td>Fulya</td>\n",
       "      <td>Sobczak</td>\n",
       "      <td>NaN</td>\n",
       "      <td>NaN</td>\n",
       "      <td>NaN</td>\n",
       "      <td>NaN</td>\n",
       "      <td>NaN</td>\n",
       "      <td>cash</td>\n",
       "    </tr>\n",
       "  </tbody>\n",
       "</table>\n",
       "</div>"
      ],
      "text/plain": [
       "                  Email Address First Name  Last Name Zip Code  MEMBER_RATING  \\\n",
       "5363  lorriemayfield3@gmail.com     Lorrie   Mayfield      NaN            NaN   \n",
       "5364  classycassey.cc@gmail.com     Cassey    Coleman      NaN            NaN   \n",
       "5365        kayemarie@gmail.com       Kaye  Christian      NaN            NaN   \n",
       "5366   mandible2002@hotmail.com       Tony      Smith      NaN            NaN   \n",
       "5367   fsdoczak@alliance-hs.org      Fulya    Sobczak      NaN            NaN   \n",
       "\n",
       "     OPTIN_TIME Cell Phone status_2017 status_2018  \n",
       "5363        NaN        NaN         NaN      online  \n",
       "5364        NaN        NaN         NaN      online  \n",
       "5365        NaN        NaN         NaN      online  \n",
       "5366        NaN        NaN         NaN      online  \n",
       "5367        NaN        NaN         NaN        cash  "
      ]
     },
     "execution_count": 151,
     "metadata": {},
     "output_type": "execute_result"
    }
   ],
   "source": [
    "data.tail()"
   ]
  },
  {
   "cell_type": "code",
   "execution_count": 179,
   "metadata": {},
   "outputs": [
    {
     "name": "stdout",
     "output_type": "stream",
     "text": [
      "iNAPS has a total of 5368 current subscribers.\n"
     ]
    }
   ],
   "source": [
    "subscriber_number = len(data)\n",
    "print(\"iNAPS has a total of\", subscriber_number, \"current subscribers.\")"
   ]
  },
  {
   "cell_type": "code",
   "execution_count": 175,
   "metadata": {},
   "outputs": [
    {
     "name": "stdout",
     "output_type": "stream",
     "text": [
      "There were 266 paid members in 2017.\n"
     ]
    }
   ],
   "source": [
    "print(\"There were\", len(data[data['status_2017'].notnull()]), \"paid members in 2017.\")"
   ]
  },
  {
   "cell_type": "code",
   "execution_count": 174,
   "metadata": {},
   "outputs": [
    {
     "name": "stdout",
     "output_type": "stream",
     "text": [
      "There are 85 paid members so far for 2018.\n"
     ]
    }
   ],
   "source": [
    "print(\"There are\", len(data[data['status_2018'].notnull()]), \"paid members so far for 2018.\")"
   ]
  },
  {
   "cell_type": "code",
   "execution_count": 180,
   "metadata": {},
   "outputs": [
    {
     "name": "stdout",
     "output_type": "stream",
     "text": [
      "5032 out of the total of 5368 subscribers were not members in 2017 and haven't paid for membership for 2018.\n"
     ]
    }
   ],
   "source": [
    "null = data[data['status_2017'].isnull()]\n",
    "not_recent_member = null[null['status_2018'].isnull()]\n",
    "print(len(not_recent_member), \"out of the total of\", subscriber_number, \"subscribers were not members in 2017 and haven't paid for membership\\\n",
    " for 2018.\")"
   ]
  },
  {
   "cell_type": "markdown",
   "metadata": {},
   "source": [
    "This exports the merged and cleaned dataframe to a CSV:"
   ]
  },
  {
   "cell_type": "code",
   "execution_count": 183,
   "metadata": {},
   "outputs": [],
   "source": [
    "csv_file_path = 'subscriber_and_member_data.csv'\n",
    "\n",
    "data.to_csv(path_or_buf=csv_file_path, header=True, index=True, index_label=\"ID\")"
   ]
  },
  {
   "cell_type": "code",
   "execution_count": null,
   "metadata": {
    "collapsed": true
   },
   "outputs": [],
   "source": []
  }
 ],
 "metadata": {
  "kernelspec": {
   "display_name": "Python 3",
   "language": "python",
   "name": "python3"
  },
  "language_info": {
   "codemirror_mode": {
    "name": "ipython",
    "version": 3
   },
   "file_extension": ".py",
   "mimetype": "text/x-python",
   "name": "python",
   "nbconvert_exporter": "python",
   "pygments_lexer": "ipython3",
   "version": "3.6.2"
  }
 },
 "nbformat": 4,
 "nbformat_minor": 2
}
